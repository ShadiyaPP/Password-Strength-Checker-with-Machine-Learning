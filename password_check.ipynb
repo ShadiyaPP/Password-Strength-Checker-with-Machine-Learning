{
 "cells": [
  {
   "cell_type": "markdown",
   "id": "af5bcd59",
   "metadata": {},
   "source": [
    "#                 Password Strength Checker with Machine Learning"
   ]
  },
  {
   "attachments": {
    "img.jpg": {
     "image/jpeg": "[encoded data removed]"
    }
   },
   "cell_type": "markdown",
   "id": "7eb04434",
   "metadata": {},
   "source": [
    "![img.jpg](attachment:img.jpg)"
   ]
  },
  {
   "cell_type": "markdown",
   "id": "66ee415d",
   "metadata": {},
   "source": [
    "### Importing the necessary Python libraries"
   ]
  },
  {
   "cell_type": "code",
   "execution_count": 16,
   "id": "7da25404",
   "metadata": {},
   "outputs": [],
   "source": [
    "import pandas as pd\n",
    "import numpy as np\n",
    "from sklearn.feature_extraction.text import CountVectorizer\n",
    "from sklearn.feature_extraction.text import TfidfVectorizer\n",
    "from sklearn.model_selection import train_test_split\n",
    "from sklearn.ensemble import RandomForestClassifier"
   ]
  },
  {
   "cell_type": "markdown",
   "id": "deaa87a3",
   "metadata": {},
   "source": [
    "### Importing  the dataset"
   ]
  },
  {
   "cell_type": "code",
   "execution_count": 55,
   "id": "efdf44fa",
   "metadata": {},
   "outputs": [
    {
     "name": "stderr",
     "output_type": "stream",
     "text": [
      "C:\\Users\\INFO\\AppData\\Local\\Temp\\ipykernel_4532\\840706980.py:1: FutureWarning: The error_bad_lines argument has been deprecated and will be removed in a future version. Use on_bad_lines in the future.\n",
      "\n",
      "\n",
      "  data = pd.read_csv(\"data.csv\", error_bad_lines=False)\n",
      "Skipping line 2810: expected 2 fields, saw 5\n",
      "Skipping line 4641: expected 2 fields, saw 5\n",
      "Skipping line 7171: expected 2 fields, saw 5\n",
      "Skipping line 11220: expected 2 fields, saw 5\n",
      "Skipping line 13809: expected 2 fields, saw 5\n",
      "Skipping line 14132: expected 2 fields, saw 5\n",
      "Skipping line 14293: expected 2 fields, saw 5\n",
      "Skipping line 14865: expected 2 fields, saw 5\n",
      "Skipping line 17419: expected 2 fields, saw 5\n",
      "Skipping line 22801: expected 2 fields, saw 5\n",
      "Skipping line 25001: expected 2 fields, saw 5\n",
      "Skipping line 26603: expected 2 fields, saw 5\n",
      "Skipping line 26742: expected 2 fields, saw 5\n",
      "Skipping line 29702: expected 2 fields, saw 5\n",
      "Skipping line 32767: expected 2 fields, saw 5\n",
      "Skipping line 32878: expected 2 fields, saw 5\n",
      "Skipping line 35643: expected 2 fields, saw 5\n",
      "Skipping line 36550: expected 2 fields, saw 5\n",
      "Skipping line 38732: expected 2 fields, saw 5\n",
      "Skipping line 40567: expected 2 fields, saw 5\n",
      "Skipping line 40576: expected 2 fields, saw 5\n",
      "Skipping line 41864: expected 2 fields, saw 5\n",
      "Skipping line 46861: expected 2 fields, saw 5\n",
      "Skipping line 47939: expected 2 fields, saw 5\n",
      "Skipping line 48628: expected 2 fields, saw 5\n",
      "Skipping line 48908: expected 2 fields, saw 5\n",
      "Skipping line 57582: expected 2 fields, saw 5\n",
      "Skipping line 58782: expected 2 fields, saw 5\n",
      "Skipping line 58984: expected 2 fields, saw 5\n",
      "Skipping line 61518: expected 2 fields, saw 5\n",
      "Skipping line 63451: expected 2 fields, saw 5\n",
      "Skipping line 68141: expected 2 fields, saw 5\n",
      "Skipping line 72083: expected 2 fields, saw 5\n",
      "Skipping line 74027: expected 2 fields, saw 5\n",
      "Skipping line 77811: expected 2 fields, saw 5\n",
      "Skipping line 83958: expected 2 fields, saw 5\n",
      "Skipping line 85295: expected 2 fields, saw 5\n",
      "Skipping line 88665: expected 2 fields, saw 5\n",
      "Skipping line 89198: expected 2 fields, saw 5\n",
      "Skipping line 92499: expected 2 fields, saw 5\n",
      "Skipping line 92751: expected 2 fields, saw 5\n",
      "Skipping line 93689: expected 2 fields, saw 5\n",
      "Skipping line 94776: expected 2 fields, saw 5\n",
      "Skipping line 97334: expected 2 fields, saw 5\n",
      "Skipping line 102316: expected 2 fields, saw 5\n",
      "Skipping line 103421: expected 2 fields, saw 5\n",
      "Skipping line 106872: expected 2 fields, saw 5\n",
      "Skipping line 109363: expected 2 fields, saw 5\n",
      "Skipping line 110117: expected 2 fields, saw 5\n",
      "Skipping line 110465: expected 2 fields, saw 5\n",
      "Skipping line 113843: expected 2 fields, saw 5\n",
      "Skipping line 115634: expected 2 fields, saw 5\n",
      "Skipping line 121518: expected 2 fields, saw 5\n",
      "Skipping line 123692: expected 2 fields, saw 5\n",
      "Skipping line 124708: expected 2 fields, saw 5\n",
      "Skipping line 129608: expected 2 fields, saw 5\n",
      "Skipping line 133176: expected 2 fields, saw 5\n",
      "Skipping line 135532: expected 2 fields, saw 5\n",
      "Skipping line 138042: expected 2 fields, saw 5\n",
      "Skipping line 139485: expected 2 fields, saw 5\n",
      "Skipping line 140401: expected 2 fields, saw 5\n",
      "Skipping line 144093: expected 2 fields, saw 5\n",
      "Skipping line 149850: expected 2 fields, saw 5\n",
      "Skipping line 151831: expected 2 fields, saw 5\n",
      "Skipping line 158014: expected 2 fields, saw 5\n",
      "Skipping line 162047: expected 2 fields, saw 5\n",
      "Skipping line 164515: expected 2 fields, saw 5\n",
      "Skipping line 170313: expected 2 fields, saw 5\n",
      "Skipping line 171325: expected 2 fields, saw 5\n",
      "Skipping line 171424: expected 2 fields, saw 5\n",
      "Skipping line 175920: expected 2 fields, saw 5\n",
      "Skipping line 176210: expected 2 fields, saw 5\n",
      "Skipping line 183603: expected 2 fields, saw 5\n",
      "Skipping line 190264: expected 2 fields, saw 5\n",
      "Skipping line 191683: expected 2 fields, saw 5\n",
      "Skipping line 191988: expected 2 fields, saw 5\n",
      "Skipping line 195450: expected 2 fields, saw 5\n",
      "Skipping line 195754: expected 2 fields, saw 5\n",
      "Skipping line 197124: expected 2 fields, saw 5\n",
      "Skipping line 199263: expected 2 fields, saw 5\n",
      "Skipping line 202603: expected 2 fields, saw 5\n",
      "Skipping line 209960: expected 2 fields, saw 5\n",
      "Skipping line 213218: expected 2 fields, saw 5\n",
      "Skipping line 217060: expected 2 fields, saw 5\n",
      "Skipping line 220121: expected 2 fields, saw 5\n",
      "Skipping line 223518: expected 2 fields, saw 5\n",
      "Skipping line 226293: expected 2 fields, saw 5\n",
      "Skipping line 227035: expected 2 fields, saw 7\n",
      "Skipping line 227341: expected 2 fields, saw 5\n",
      "Skipping line 227808: expected 2 fields, saw 5\n",
      "Skipping line 228516: expected 2 fields, saw 5\n",
      "Skipping line 228733: expected 2 fields, saw 5\n",
      "Skipping line 232043: expected 2 fields, saw 5\n",
      "Skipping line 232426: expected 2 fields, saw 5\n",
      "Skipping line 234490: expected 2 fields, saw 5\n",
      "Skipping line 239626: expected 2 fields, saw 5\n",
      "Skipping line 240461: expected 2 fields, saw 5\n",
      "Skipping line 244518: expected 2 fields, saw 5\n",
      "Skipping line 245395: expected 2 fields, saw 5\n",
      "Skipping line 246168: expected 2 fields, saw 5\n",
      "Skipping line 246655: expected 2 fields, saw 5\n",
      "Skipping line 246752: expected 2 fields, saw 5\n",
      "Skipping line 247189: expected 2 fields, saw 5\n",
      "Skipping line 250276: expected 2 fields, saw 5\n",
      "Skipping line 255327: expected 2 fields, saw 5\n",
      "Skipping line 257094: expected 2 fields, saw 5\n",
      "\n",
      "Skipping line 264626: expected 2 fields, saw 5\n",
      "Skipping line 265028: expected 2 fields, saw 5\n",
      "Skipping line 269150: expected 2 fields, saw 5\n",
      "Skipping line 271360: expected 2 fields, saw 5\n",
      "Skipping line 273975: expected 2 fields, saw 5\n",
      "Skipping line 274742: expected 2 fields, saw 5\n",
      "Skipping line 276227: expected 2 fields, saw 5\n",
      "Skipping line 279807: expected 2 fields, saw 5\n",
      "Skipping line 283425: expected 2 fields, saw 5\n",
      "Skipping line 287468: expected 2 fields, saw 5\n",
      "Skipping line 292995: expected 2 fields, saw 5\n",
      "Skipping line 293496: expected 2 fields, saw 5\n",
      "Skipping line 293735: expected 2 fields, saw 5\n",
      "Skipping line 295060: expected 2 fields, saw 5\n",
      "Skipping line 296643: expected 2 fields, saw 5\n",
      "Skipping line 296848: expected 2 fields, saw 5\n",
      "Skipping line 308926: expected 2 fields, saw 5\n",
      "Skipping line 310360: expected 2 fields, saw 5\n",
      "Skipping line 317004: expected 2 fields, saw 5\n",
      "Skipping line 318207: expected 2 fields, saw 5\n",
      "Skipping line 331783: expected 2 fields, saw 5\n",
      "Skipping line 333864: expected 2 fields, saw 5\n",
      "Skipping line 335958: expected 2 fields, saw 5\n",
      "Skipping line 336290: expected 2 fields, saw 5\n",
      "Skipping line 343526: expected 2 fields, saw 5\n",
      "Skipping line 343857: expected 2 fields, saw 5\n",
      "Skipping line 344059: expected 2 fields, saw 5\n",
      "Skipping line 348691: expected 2 fields, saw 5\n",
      "Skipping line 353446: expected 2 fields, saw 5\n",
      "Skipping line 357073: expected 2 fields, saw 5\n",
      "Skipping line 359753: expected 2 fields, saw 5\n",
      "Skipping line 359974: expected 2 fields, saw 5\n",
      "Skipping line 366534: expected 2 fields, saw 5\n",
      "Skipping line 369514: expected 2 fields, saw 5\n",
      "Skipping line 377759: expected 2 fields, saw 5\n",
      "Skipping line 379327: expected 2 fields, saw 5\n",
      "Skipping line 380769: expected 2 fields, saw 5\n",
      "Skipping line 381073: expected 2 fields, saw 5\n",
      "Skipping line 381489: expected 2 fields, saw 5\n",
      "Skipping line 386304: expected 2 fields, saw 5\n",
      "Skipping line 387635: expected 2 fields, saw 5\n",
      "Skipping line 389613: expected 2 fields, saw 5\n",
      "Skipping line 392604: expected 2 fields, saw 5\n",
      "Skipping line 393184: expected 2 fields, saw 5\n",
      "Skipping line 395530: expected 2 fields, saw 5\n",
      "Skipping line 396939: expected 2 fields, saw 5\n",
      "Skipping line 397385: expected 2 fields, saw 5\n",
      "Skipping line 397509: expected 2 fields, saw 5\n",
      "Skipping line 402902: expected 2 fields, saw 5\n",
      "Skipping line 405187: expected 2 fields, saw 5\n",
      "Skipping line 408412: expected 2 fields, saw 5\n",
      "Skipping line 419423: expected 2 fields, saw 5\n",
      "Skipping line 420962: expected 2 fields, saw 5\n",
      "Skipping line 425965: expected 2 fields, saw 5\n",
      "Skipping line 427496: expected 2 fields, saw 5\n",
      "Skipping line 438881: expected 2 fields, saw 5\n",
      "Skipping line 439776: expected 2 fields, saw 5\n",
      "Skipping line 440345: expected 2 fields, saw 5\n",
      "Skipping line 445507: expected 2 fields, saw 5\n",
      "Skipping line 445548: expected 2 fields, saw 5\n",
      "Skipping line 447184: expected 2 fields, saw 5\n",
      "Skipping line 448603: expected 2 fields, saw 5\n",
      "Skipping line 451732: expected 2 fields, saw 5\n",
      "Skipping line 458249: expected 2 fields, saw 5\n",
      "Skipping line 460274: expected 2 fields, saw 5\n",
      "Skipping line 467630: expected 2 fields, saw 5\n",
      "Skipping line 473961: expected 2 fields, saw 5\n",
      "Skipping line 476281: expected 2 fields, saw 5\n",
      "Skipping line 478010: expected 2 fields, saw 5\n",
      "Skipping line 478322: expected 2 fields, saw 5\n",
      "Skipping line 479999: expected 2 fields, saw 5\n",
      "Skipping line 480898: expected 2 fields, saw 5\n",
      "Skipping line 481688: expected 2 fields, saw 5\n",
      "Skipping line 485193: expected 2 fields, saw 5\n",
      "Skipping line 485519: expected 2 fields, saw 5\n",
      "Skipping line 486000: expected 2 fields, saw 5\n",
      "Skipping line 489063: expected 2 fields, saw 5\n",
      "Skipping line 494525: expected 2 fields, saw 5\n",
      "Skipping line 495009: expected 2 fields, saw 5\n",
      "Skipping line 501954: expected 2 fields, saw 5\n",
      "Skipping line 508035: expected 2 fields, saw 5\n",
      "Skipping line 508828: expected 2 fields, saw 5\n",
      "Skipping line 509833: expected 2 fields, saw 5\n",
      "Skipping line 510410: expected 2 fields, saw 5\n",
      "Skipping line 518229: expected 2 fields, saw 5\n",
      "Skipping line 520302: expected 2 fields, saw 5\n",
      "Skipping line 520340: expected 2 fields, saw 5\n",
      "\n"
     ]
    },
    {
     "name": "stderr",
     "output_type": "stream",
     "text": [
      "Skipping line 525174: expected 2 fields, saw 5\n",
      "Skipping line 526251: expected 2 fields, saw 5\n",
      "Skipping line 529611: expected 2 fields, saw 5\n",
      "Skipping line 531398: expected 2 fields, saw 5\n",
      "Skipping line 534146: expected 2 fields, saw 5\n",
      "Skipping line 544954: expected 2 fields, saw 5\n",
      "Skipping line 553002: expected 2 fields, saw 5\n",
      "Skipping line 553883: expected 2 fields, saw 5\n",
      "Skipping line 553887: expected 2 fields, saw 5\n",
      "Skipping line 553915: expected 2 fields, saw 5\n",
      "Skipping line 554172: expected 2 fields, saw 5\n",
      "Skipping line 563534: expected 2 fields, saw 5\n",
      "Skipping line 565191: expected 2 fields, saw 5\n",
      "Skipping line 574108: expected 2 fields, saw 5\n",
      "Skipping line 574412: expected 2 fields, saw 5\n",
      "Skipping line 575985: expected 2 fields, saw 5\n",
      "Skipping line 580091: expected 2 fields, saw 5\n",
      "Skipping line 582682: expected 2 fields, saw 5\n",
      "Skipping line 585885: expected 2 fields, saw 5\n",
      "Skipping line 590171: expected 2 fields, saw 5\n",
      "Skipping line 591924: expected 2 fields, saw 5\n",
      "Skipping line 592515: expected 2 fields, saw 5\n",
      "Skipping line 593888: expected 2 fields, saw 5\n",
      "Skipping line 596245: expected 2 fields, saw 5\n",
      "Skipping line 607344: expected 2 fields, saw 5\n",
      "Skipping line 607633: expected 2 fields, saw 5\n",
      "Skipping line 610939: expected 2 fields, saw 5\n",
      "Skipping line 613638: expected 2 fields, saw 5\n",
      "Skipping line 615643: expected 2 fields, saw 5\n",
      "Skipping line 615901: expected 2 fields, saw 5\n",
      "Skipping line 617389: expected 2 fields, saw 5\n",
      "Skipping line 634641: expected 2 fields, saw 5\n",
      "Skipping line 635755: expected 2 fields, saw 5\n",
      "Skipping line 646243: expected 2 fields, saw 5\n",
      "Skipping line 647165: expected 2 fields, saw 5\n",
      "Skipping line 648610: expected 2 fields, saw 5\n",
      "Skipping line 648772: expected 2 fields, saw 5\n",
      "Skipping line 651833: expected 2 fields, saw 5\n",
      "Skipping line 653663: expected 2 fields, saw 5\n",
      "Skipping line 656233: expected 2 fields, saw 5\n",
      "Skipping line 656694: expected 2 fields, saw 5\n",
      "Skipping line 659783: expected 2 fields, saw 5\n",
      "Skipping line 660478: expected 2 fields, saw 5\n",
      "Skipping line 661133: expected 2 fields, saw 5\n",
      "Skipping line 661736: expected 2 fields, saw 5\n",
      "Skipping line 669827: expected 2 fields, saw 5\n",
      "\n"
     ]
    }
   ],
   "source": [
    "data = pd.read_csv(\"data.csv\", error_bad_lines=False)"
   ]
  },
  {
   "cell_type": "code",
   "execution_count": 51,
   "id": "cd5acc1b",
   "metadata": {},
   "outputs": [
    {
     "name": "stdout",
     "output_type": "stream",
     "text": [
      "      password  strength\n",
      "0     kzde5577         1\n",
      "1     kino3434         1\n",
      "2    visi7k1yr         1\n",
      "3     megzy123         1\n",
      "4  lamborghin1         1\n"
     ]
    }
   ],
   "source": [
    "print(data.head())"
   ]
  },
  {
   "cell_type": "code",
   "execution_count": 52,
   "id": "d1b71913",
   "metadata": {},
   "outputs": [
    {
     "data": {
      "text/plain": [
       "(669640, 2)"
      ]
     },
     "execution_count": 52,
     "metadata": {},
     "output_type": "execute_result"
    }
   ],
   "source": [
    "data.shape"
   ]
  },
  {
   "cell_type": "code",
   "execution_count": 53,
   "id": "8258b537",
   "metadata": {},
   "outputs": [
    {
     "data": {
      "text/plain": [
       "array([1, 2, 0], dtype=int64)"
      ]
     },
     "execution_count": 53,
     "metadata": {},
     "output_type": "execute_result"
    }
   ],
   "source": [
    "data.strength.unique()\n"
   ]
  },
  {
   "cell_type": "markdown",
   "id": "9a2b2972",
   "metadata": {},
   "source": [
    "###### The dataset has two columns, password and strength. In the strength column:\n",
    "\n",
    "###### 0 means: the password’s strength is weak,\n",
    "###### 1 means: the password’s strength is medium,\n",
    "###### 2 means: the password’s strength is strong."
   ]
  },
  {
   "cell_type": "markdown",
   "id": "6b1fba00",
   "metadata": {},
   "source": [
    "#### Before moving forward, I will convert 0, 1, and 2 values in the strength column to weak, medium, and strong:"
   ]
  },
  {
   "cell_type": "code",
   "execution_count": 56,
   "id": "43ae5e86",
   "metadata": {},
   "outputs": [],
   "source": [
    "data = data.dropna()\n",
    "\n",
    "data[\"strength\"] = data[\"strength\"].map({0: \"Weak\", \n",
    "                                         1: \"Medium\",\n",
    "                                         2: \"Strong\"})"
   ]
  },
  {
   "cell_type": "code",
   "execution_count": 57,
   "id": "50d7dd6e",
   "metadata": {},
   "outputs": [
    {
     "name": "stdout",
     "output_type": "stream",
     "text": [
      "                password strength\n",
      "436246        za55124565   Medium\n",
      "523413           w5on6gn     Weak\n",
      "520384  lZfslxTIxNggJ0sv   Strong\n",
      "656322         qifiso560   Medium\n",
      "282520          magias21   Medium\n"
     ]
    }
   ],
   "source": [
    "print(data.sample(5))"
   ]
  },
  {
   "cell_type": "code",
   "execution_count": 39,
   "id": "5e893fa6",
   "metadata": {},
   "outputs": [],
   "source": [
    "#Function to tokenize the passwords\n",
    "def word(password):\n",
    "    character=[]\n",
    "    for i in password:\n",
    "        character.append(i)\n",
    "    return character"
   ]
  },
  {
   "cell_type": "code",
   "execution_count": 40,
   "id": "2714712d",
   "metadata": {},
   "outputs": [],
   "source": [
    "#split the data into training and test sets\n",
    "x = np.array(data[\"password\"])\n",
    "y = np.array(data[\"strength\"])"
   ]
  },
  {
   "cell_type": "code",
   "execution_count": 41,
   "id": "e3aba001",
   "metadata": {},
   "outputs": [
    {
     "name": "stderr",
     "output_type": "stream",
     "text": [
      "C:\\Users\\INFO\\AppData\\Local\\Programs\\Python\\Python311\\Lib\\site-packages\\sklearn\\feature_extraction\\text.py:528: UserWarning: The parameter 'token_pattern' will not be used since 'tokenizer' is not None'\n",
      "  warnings.warn(\n"
     ]
    }
   ],
   "source": [
    "tdif = TfidfVectorizer(tokenizer=word)\n",
    "x = tdif.fit_transform(x)"
   ]
  },
  {
   "cell_type": "code",
   "execution_count": 24,
   "id": "4e731d3e",
   "metadata": {},
   "outputs": [],
   "source": [
    "xtrain, xtest, ytrain, ytest = train_test_split(x, y, test_size=0.05, random_state=42)"
   ]
  },
  {
   "cell_type": "code",
   "execution_count": 25,
   "id": "bc88c62c",
   "metadata": {},
   "outputs": [
    {
     "data": {
      "text/html": [
       "<style>#sk-container-id-1 {color: black;background-color: white;}#sk-container-id-1 pre{padding: 0;}#sk-container-id-1 div.sk-toggleable {background-color: white;}#sk-container-id-1 label.sk-toggleable__label {cursor: pointer;display: block;width: 100%;margin-bottom: 0;padding: 0.3em;box-sizing: border-box;text-align: center;}#sk-container-id-1 label.sk-toggleable__label-arrow:before {content: \"▸\";float: left;margin-right: 0.25em;color: #696969;}#sk-container-id-1 label.sk-toggleable__label-arrow:hover:before {color: black;}#sk-container-id-1 div.sk-estimator:hover label.sk-toggleable__label-arrow:before {color: black;}#sk-container-id-1 div.sk-toggleable__content {max-height: 0;max-width: 0;overflow: hidden;text-align: left;background-color: #f0f8ff;}#sk-container-id-1 div.sk-toggleable__content pre {margin: 0.2em;color: black;border-radius: 0.25em;background-color: #f0f8ff;}#sk-container-id-1 input.sk-toggleable__control:checked~div.sk-toggleable__content {max-height: 200px;max-width: 100%;overflow: auto;}#sk-container-id-1 input.sk-toggleable__control:checked~label.sk-toggleable__label-arrow:before {content: \"▾\";}#sk-container-id-1 div.sk-estimator input.sk-toggleable__control:checked~label.sk-toggleable__label {background-color: #d4ebff;}#sk-container-id-1 div.sk-label input.sk-toggleable__control:checked~label.sk-toggleable__label {background-color: #d4ebff;}#sk-container-id-1 input.sk-hidden--visually {border: 0;clip: rect(1px 1px 1px 1px);clip: rect(1px, 1px, 1px, 1px);height: 1px;margin: -1px;overflow: hidden;padding: 0;position: absolute;width: 1px;}#sk-container-id-1 div.sk-estimator {font-family: monospace;background-color: #f0f8ff;border: 1px dotted black;border-radius: 0.25em;box-sizing: border-box;margin-bottom: 0.5em;}#sk-container-id-1 div.sk-estimator:hover {background-color: #d4ebff;}#sk-container-id-1 div.sk-parallel-item::after {content: \"\";width: 100%;border-bottom: 1px solid gray;flex-grow: 1;}#sk-container-id-1 div.sk-label:hover label.sk-toggleable__label {background-color: #d4ebff;}#sk-container-id-1 div.sk-serial::before {content: \"\";position: absolute;border-left: 1px solid gray;box-sizing: border-box;top: 0;bottom: 0;left: 50%;z-index: 0;}#sk-container-id-1 div.sk-serial {display: flex;flex-direction: column;align-items: center;background-color: white;padding-right: 0.2em;padding-left: 0.2em;position: relative;}#sk-container-id-1 div.sk-item {position: relative;z-index: 1;}#sk-container-id-1 div.sk-parallel {display: flex;align-items: stretch;justify-content: center;background-color: white;position: relative;}#sk-container-id-1 div.sk-item::before, #sk-container-id-1 div.sk-parallel-item::before {content: \"\";position: absolute;border-left: 1px solid gray;box-sizing: border-box;top: 0;bottom: 0;left: 50%;z-index: -1;}#sk-container-id-1 div.sk-parallel-item {display: flex;flex-direction: column;z-index: 1;position: relative;background-color: white;}#sk-container-id-1 div.sk-parallel-item:first-child::after {align-self: flex-end;width: 50%;}#sk-container-id-1 div.sk-parallel-item:last-child::after {align-self: flex-start;width: 50%;}#sk-container-id-1 div.sk-parallel-item:only-child::after {width: 0;}#sk-container-id-1 div.sk-dashed-wrapped {border: 1px dashed gray;margin: 0 0.4em 0.5em 0.4em;box-sizing: border-box;padding-bottom: 0.4em;background-color: white;}#sk-container-id-1 div.sk-label label {font-family: monospace;font-weight: bold;display: inline-block;line-height: 1.2em;}#sk-container-id-1 div.sk-label-container {text-align: center;}#sk-container-id-1 div.sk-container {/* jupyter's `normalize.less` sets `[hidden] { display: none; }` but bootstrap.min.css set `[hidden] { display: none !important; }` so we also need the `!important` here to be able to override the default hidden behavior on the sphinx rendered scikit-learn.org. See: https://github.com/scikit-learn/scikit-learn/issues/21755 */display: inline-block !important;position: relative;}#sk-container-id-1 div.sk-text-repr-fallback {display: none;}</style><div id=\"sk-container-id-1\" class=\"sk-top-container\"><div class=\"sk-text-repr-fallback\"><pre>RandomForestClassifier()</pre><b>In a Jupyter environment, please rerun this cell to show the HTML representation or trust the notebook. <br />On GitHub, the HTML representation is unable to render, please try loading this page with nbviewer.org.</b></div><div class=\"sk-container\" hidden><div class=\"sk-item\"><div class=\"sk-estimator sk-toggleable\"><input class=\"sk-toggleable__control sk-hidden--visually\" id=\"sk-estimator-id-1\" type=\"checkbox\" checked><label for=\"sk-estimator-id-1\" class=\"sk-toggleable__label sk-toggleable__label-arrow\">RandomForestClassifier</label><div class=\"sk-toggleable__content\"><pre>RandomForestClassifier()</pre></div></div></div></div></div>"
      ],
      "text/plain": [
       "RandomForestClassifier()"
      ]
     },
     "execution_count": 25,
     "metadata": {},
     "output_type": "execute_result"
    }
   ],
   "source": [
    "model = RandomForestClassifier()\n",
    "model.fit(xtrain, ytrain)"
   ]
  },
  {
   "cell_type": "code",
   "execution_count": 42,
   "id": "1182090f",
   "metadata": {},
   "outputs": [
    {
     "name": "stdout",
     "output_type": "stream",
     "text": [
      "0.9567827489397288\n"
     ]
    }
   ],
   "source": [
    "print(model.score(xtest, ytest))"
   ]
  },
  {
   "cell_type": "markdown",
   "id": "cf29c979",
   "metadata": {},
   "source": [
    "### Now here’s how we can check the strength of a password using the trained model:\n"
   ]
  },
  {
   "cell_type": "code",
   "execution_count": 48,
   "id": "1d54927a",
   "metadata": {},
   "outputs": [
    {
     "name": "stdout",
     "output_type": "stream",
     "text": [
      "Enter Password: anna@123\n",
      "['Medium']\n"
     ]
    }
   ],
   "source": [
    "user = input(\"Enter Password: \")\n",
    "data = tdif.transform([user]).toarray()\n",
    "output = model.predict(data)\n",
    "print(output)"
   ]
  },
  {
   "cell_type": "code",
   "execution_count": 30,
   "id": "f60db3ea",
   "metadata": {},
   "outputs": [
    {
     "name": "stdout",
     "output_type": "stream",
     "text": [
      "Enter Password: ········\n",
      "['Weak']\n"
     ]
    }
   ],
   "source": [
    "import getpass\n",
    "user_password = getpass.getpass(\"Enter Password: \")\n",
    "data = tdif.transform([user_password]).toarray()\n",
    "output = model.predict(data)\n",
    "print(output)"
   ]
  }
 ],
 "metadata": {
  "kernelspec": {
   "display_name": "Python 3 (ipykernel)",
   "language": "python",
   "name": "python3"
  },
  "language_info": {
   "codemirror_mode": {
    "name": "ipython",
    "version": 3
   },
   "file_extension": ".py",
   "mimetype": "text/x-python",
   "name": "python",
   "nbconvert_exporter": "python",
   "pygments_lexer": "ipython3",
   "version": "3.11.1"
  }
 },
 "nbformat": 4,
 "nbformat_minor": 5
}
